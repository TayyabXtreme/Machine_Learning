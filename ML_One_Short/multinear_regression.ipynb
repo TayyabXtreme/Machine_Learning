{
 "cells": [
  {
   "cell_type": "code",
   "execution_count": 1,
   "metadata": {},
   "outputs": [
    {
     "name": "stdout",
     "output_type": "stream",
     "text": [
      "Mean Absolute Error: 0.6656656656006282\n",
      "Mean Squared Error: 0.6566031847646813\n",
      "Root Mean Squared Error: 0.8103105483483979\n",
      "R2 Score: 0.4747054104497257\n"
     ]
    }
   ],
   "source": [
    "import pandas as pd\n",
    "import numpy as np\n",
    "import matplotlib.pyplot as plt\n",
    "import seaborn as sns\n",
    "from sklearn.model_selection import train_test_split\n",
    "from sklearn.preprocessing import StandardScaler, LabelEncoder\n",
    "from sklearn.linear_model import LinearRegression\n",
    "from sklearn.metrics import mean_squared_error, r2_score, mean_absolute_error\n",
    "import warnings\n",
    "warnings.filterwarnings('ignore')\n",
    "\n",
    "df=sns.load_dataset('tips')\n",
    "df.head()\n",
    "\n",
    "X=df[['total_bill','size','day']]\n",
    "Y=df['tip']\n",
    "\n",
    "scalar=StandardScaler()\n",
    "\n",
    "X[['total_bill','size']]=scalar.fit_transform(X[['total_bill','size']])\n",
    "\n",
    "le=LabelEncoder()\n",
    "X['day']=le.fit_transform(X['day'])\n",
    "\n",
    "X_train, X_test, Y_train, Y_test = train_test_split(X,Y,test_size=0.2,random_state=42)\n",
    "\n",
    "model=LinearRegression()\n",
    "\n",
    "model.fit(X_train,Y_train)\n",
    "\n",
    "y_pred=model.predict(X_test)\n",
    "\n",
    "print(\"Mean Absolute Error:\",mean_absolute_error(Y_test,y_pred))\n",
    "print(\"Mean Squared Error:\",mean_squared_error(Y_test,y_pred))\n",
    "print(\"Root Mean Squared Error:\",np.sqrt(mean_squared_error(Y_test,y_pred)))\n",
    "print(\"R2 Score:\",r2_score(Y_test,y_pred))\n"
   ]
  },
  {
   "cell_type": "code",
   "execution_count": 2,
   "metadata": {},
   "outputs": [
    {
     "name": "stdout",
     "output_type": "stream",
     "text": [
      "Mean Absolute Error: 0.6591957722968487\n",
      "Mean Squared Error: 0.6655725405795047\n",
      "Root Mean Squared Error: 0.8158262931405831\n",
      "R2 Score: 0.46752976130485213\n"
     ]
    }
   ],
   "source": [
    "from sklearn.pipeline import Pipeline\n",
    "from sklearn.compose import ColumnTransformer\n",
    "import pandas as pd\n",
    "import numpy as np\n",
    "import matplotlib.pyplot as plt\n",
    "import seaborn as sns\n",
    "from sklearn.model_selection import train_test_split\n",
    "from sklearn.preprocessing import StandardScaler, LabelEncoder, OneHotEncoder\n",
    "from sklearn.linear_model import LinearRegression\n",
    "from sklearn.metrics import mean_squared_error, r2_score, mean_absolute_error\n",
    "import warnings\n",
    "warnings.filterwarnings('ignore')\n",
    "\n",
    "\n",
    "df=sns.load_dataset('tips')\n",
    "X=df[['total_bill','size','day']]\n",
    "Y=df['tip']\n",
    "\n",
    "numeric_features=['total_bill','size']\n",
    "categorical_features=['day']\n",
    "\n",
    "preprocessor=ColumnTransformer(\n",
    "    transformers=[\n",
    "        ('num',StandardScaler(),numeric_features),\n",
    "        ('cat',OneHotEncoder(),categorical_features)\n",
    "    ]\n",
    ")\n",
    "\n",
    "\n",
    "X_train, X_test, Y_train, Y_test = train_test_split(X,Y,test_size=0.2,random_state=42)\n",
    "\n",
    "\n",
    "pipline=Pipeline(steps=[\n",
    "    ('preprocessor',preprocessor),\n",
    "    ('model',LinearRegression())\n",
    "])\n",
    "\n",
    "pipline.fit(X_train,Y_train)\n",
    "\n",
    "y_pred=pipline.predict(X_test)\n",
    "\n",
    "print(\"Mean Absolute Error:\",mean_absolute_error(Y_test,y_pred))\n",
    "print(\"Mean Squared Error:\",mean_squared_error(Y_test,y_pred))\n",
    "print(\"Root Mean Squared Error:\",np.sqrt(mean_squared_error(Y_test,y_pred)))\n",
    "print(\"R2 Score:\",r2_score(Y_test,y_pred))\n",
    "\n"
   ]
  },
  {
   "cell_type": "code",
   "execution_count": null,
   "metadata": {},
   "outputs": [],
   "source": []
  }
 ],
 "metadata": {
  "kernelspec": {
   "display_name": "Python 3",
   "language": "python",
   "name": "python3"
  },
  "language_info": {
   "codemirror_mode": {
    "name": "ipython",
    "version": 3
   },
   "file_extension": ".py",
   "mimetype": "text/x-python",
   "name": "python",
   "nbconvert_exporter": "python",
   "pygments_lexer": "ipython3",
   "version": "3.10.0"
  }
 },
 "nbformat": 4,
 "nbformat_minor": 2
}
