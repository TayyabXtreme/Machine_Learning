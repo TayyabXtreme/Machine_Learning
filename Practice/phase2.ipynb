{
 "cells": [
  {
   "cell_type": "markdown",
   "metadata": {},
   "source": [
    "## Numpy Array Operation"
   ]
  },
  {
   "cell_type": "code",
   "execution_count": 1,
   "metadata": {},
   "outputs": [],
   "source": [
    "import numpy as np"
   ]
  },
  {
   "cell_type": "code",
   "execution_count": 5,
   "metadata": {},
   "outputs": [
    {
     "name": "stdout",
     "output_type": "stream",
     "text": [
      "Basic Slicing [3 4 5 6 7]\n",
      "Basic Step Slicing [1 3 5 7 9]\n",
      "Negative indexing [10  9  8  7  6  5  4  3  2]\n"
     ]
    }
   ],
   "source": [
    "arr=np.array([1,2,3,4,5,6,7,8,9,10])\n",
    "print(\"Basic Slicing\",arr[2:7]) \n",
    "print(\"Basic Step Slicing\",arr[0:9:2])\n",
    "print(\"Negative indexing\",arr[-1:-10:-1])\n"
   ]
  },
  {
   "cell_type": "code",
   "execution_count": 10,
   "metadata": {},
   "outputs": [
    {
     "name": "stdout",
     "output_type": "stream",
     "text": [
      "Specific element 8\n",
      "Whole row  [ 2  7 12]\n"
     ]
    }
   ],
   "source": [
    "\n",
    "arr_2d=np.array([[1,2,3,4,5],[6,7,8,9,10],[11,12,13,14,15]])\n",
    "\n",
    "print(\"Specific element\",arr_2d[1,2])\n",
    "print('Whole row ',arr_2d[:,1])\n"
   ]
  },
  {
   "cell_type": "markdown",
   "metadata": {},
   "source": [
    "## Sorting"
   ]
  },
  {
   "cell_type": "code",
   "execution_count": 18,
   "metadata": {},
   "outputs": [
    {
     "name": "stdout",
     "output_type": "stream",
     "text": [
      "Unsorted array [1 1 2 3 3 4 5 5 5 6 7 8 9 9 9]\n",
      "Sorted array [[1 1 3 4 5]\n",
      " [2 3 5 6 9]\n",
      " [5 7 8 9 9]]\n"
     ]
    }
   ],
   "source": [
    "unsorted=np.array([3,1,4,1,5,9,2,6,5,3,5,8,9,7,9])\n",
    "print(\"Unsorted array\",np.sort(unsorted))\n",
    "\n",
    "\n",
    "arr_2d_unsorted=np.array([[3,1,4,1,5],[9,2,6,5,3],[5,8,9,7,9]])\n",
    "print(\"Sorted array\",np.sort(arr_2d_unsorted))"
   ]
  },
  {
   "cell_type": "markdown",
   "metadata": {},
   "source": [
    "## Filter"
   ]
  },
  {
   "cell_type": "code",
   "execution_count": 20,
   "metadata": {},
   "outputs": [
    {
     "name": "stdout",
     "output_type": "stream",
     "text": [
      "Even number [ 2  4  6  8 10]\n"
     ]
    }
   ],
   "source": [
    "number=np.array([1,2,3,4,5,6,7,8,9,10])\n",
    "even_number=number[number%2==0]\n",
    "print(\"Even number\",even_number)\n"
   ]
  },
  {
   "cell_type": "markdown",
   "metadata": {},
   "source": [
    "### Filter with Mask"
   ]
  },
  {
   "cell_type": "code",
   "execution_count": null,
   "metadata": {},
   "outputs": [
    {
     "name": "stdout",
     "output_type": "stream",
     "text": [
      "Number greater than 5 [False False False False False  True  True  True  True  True]\n"
     ]
    }
   ],
   "source": [
    "mask=number>5\n",
    "print(\"Number greater than 5\",number[mask])"
   ]
  },
  {
   "cell_type": "markdown",
   "metadata": {},
   "source": [
    "## Fancy indexing vs np.where()"
   ]
  },
  {
   "cell_type": "code",
   "execution_count": 25,
   "metadata": {},
   "outputs": [
    {
     "name": "stdout",
     "output_type": "stream",
     "text": [
      "Elements at these indices [ 2  4  6  8 10]\n",
      "Where result [ 6  7  8  9 10]\n"
     ]
    }
   ],
   "source": [
    "indices=np.array([1,3,5,7,9])\n",
    "print(\"Elements at these indices\",number[indices])\n",
    "\n",
    "where_result=np.where(number>5)\n",
    "print(\"Where result\",number[where_result])"
   ]
  },
  {
   "cell_type": "code",
   "execution_count": null,
   "metadata": {},
   "outputs": [],
   "source": []
  }
 ],
 "metadata": {
  "kernelspec": {
   "display_name": "venv",
   "language": "python",
   "name": "python3"
  },
  "language_info": {
   "codemirror_mode": {
    "name": "ipython",
    "version": 3
   },
   "file_extension": ".py",
   "mimetype": "text/x-python",
   "name": "python",
   "nbconvert_exporter": "python",
   "pygments_lexer": "ipython3",
   "version": "3.12.4"
  }
 },
 "nbformat": 4,
 "nbformat_minor": 2
}
