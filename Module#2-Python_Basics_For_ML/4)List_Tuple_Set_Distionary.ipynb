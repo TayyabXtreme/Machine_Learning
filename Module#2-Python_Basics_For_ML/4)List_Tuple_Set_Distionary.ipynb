{
  "nbformat": 4,
  "nbformat_minor": 0,
  "metadata": {
    "colab": {
      "provenance": []
    },
    "kernelspec": {
      "name": "python3",
      "display_name": "Python 3"
    },
    "language_info": {
      "name": "python"
    }
  },
  "cells": [
    {
      "cell_type": "markdown",
      "source": [
        "## Types Of Object\n",
        "1. Immutable\n",
        "2. Mutable"
      ],
      "metadata": {
        "id": "ZOPMSIYx2baO"
      }
    },
    {
      "cell_type": "markdown",
      "source": [
        "# Immutable\n",
        "\n",
        "\n",
        "1.   Int\n",
        "2.   Float\n",
        "3.   Complex\n",
        "4.   String\n",
        "5.   Boolean\n",
        "6.   Tuple\n",
        "\n",
        "\n"
      ],
      "metadata": {
        "id": "k63Zf9i82nRv"
      }
    },
    {
      "cell_type": "markdown",
      "source": [
        "# Mutable\n",
        "\n",
        "\n",
        "1.   List\n",
        "2.   Set\n",
        "3.   Distionary\n"
      ],
      "metadata": {
        "id": "FHENSAEv29-s"
      }
    },
    {
      "cell_type": "code",
      "execution_count": 2,
      "metadata": {
        "colab": {
          "base_uri": "https://localhost:8080/"
        },
        "id": "9vRsWBXy2RUY",
        "outputId": "c6a20e1d-9bcf-4b40-bbac-731fff18bed3"
      },
      "outputs": [
        {
          "output_type": "stream",
          "name": "stdout",
          "text": [
            "[1, 3, 4, 5]\n"
          ]
        },
        {
          "output_type": "execute_result",
          "data": {
            "text/plain": [
              "list"
            ]
          },
          "metadata": {},
          "execution_count": 2
        }
      ],
      "source": [
        "my_list = [1,3,4,5]\n",
        "print(my_list)\n",
        "type(my_list)"
      ]
    },
    {
      "cell_type": "code",
      "source": [
        "my_list = [1,\"mango\",True,32,3j+32.4]\n",
        "print(my_list)\n",
        "type(my_list)"
      ],
      "metadata": {
        "colab": {
          "base_uri": "https://localhost:8080/"
        },
        "id": "bzDKs_N43O-_",
        "outputId": "b65088d7-70e5-49e4-b24b-8b240ffac034"
      },
      "execution_count": 4,
      "outputs": [
        {
          "output_type": "stream",
          "name": "stdout",
          "text": [
            "[1, 'mango', True, 32, (32.4+3j)]\n"
          ]
        },
        {
          "output_type": "execute_result",
          "data": {
            "text/plain": [
              "list"
            ]
          },
          "metadata": {},
          "execution_count": 4
        }
      ]
    },
    {
      "cell_type": "code",
      "source": [
        "print(my_list[4])"
      ],
      "metadata": {
        "colab": {
          "base_uri": "https://localhost:8080/"
        },
        "id": "dRlMc2rR3ga3",
        "outputId": "1392d3ed-4454-4852-8e70-1b16091a5937"
      },
      "execution_count": 9,
      "outputs": [
        {
          "output_type": "stream",
          "name": "stdout",
          "text": [
            "(32.4+3j)\n"
          ]
        }
      ]
    },
    {
      "cell_type": "code",
      "source": [
        "print(len(my_list))"
      ],
      "metadata": {
        "colab": {
          "base_uri": "https://localhost:8080/"
        },
        "id": "T8BT20WV3yZc",
        "outputId": "00cd24d7-f970-45b7-ed30-ff41307f1cf3"
      },
      "execution_count": 10,
      "outputs": [
        {
          "output_type": "stream",
          "name": "stdout",
          "text": [
            "5\n"
          ]
        }
      ]
    },
    {
      "cell_type": "code",
      "source": [
        "list2=[]\n",
        "print(len(list2))\n",
        "list2.append(3)\n",
        "list2.append(6)\n",
        "print(list2)"
      ],
      "metadata": {
        "colab": {
          "base_uri": "https://localhost:8080/"
        },
        "id": "h7udybwL4Xms",
        "outputId": "9bcf872f-f430-4a49-db78-1d865f2bbda9"
      },
      "execution_count": 15,
      "outputs": [
        {
          "output_type": "stream",
          "name": "stdout",
          "text": [
            "0\n",
            "[3, 6]\n"
          ]
        }
      ]
    },
    {
      "cell_type": "code",
      "source": [
        "tuple1=(1,2,3,4)\n",
        "print(tuple1)\n",
        "type(tuple1)"
      ],
      "metadata": {
        "colab": {
          "base_uri": "https://localhost:8080/"
        },
        "id": "Xf9mgvPQ4bl5",
        "outputId": "eb5d6b3e-fd20-480c-d0f4-abbc39e16a45"
      },
      "execution_count": 17,
      "outputs": [
        {
          "output_type": "stream",
          "name": "stdout",
          "text": [
            "(1, 2, 3, 4)\n"
          ]
        },
        {
          "output_type": "execute_result",
          "data": {
            "text/plain": [
              "tuple"
            ]
          },
          "metadata": {},
          "execution_count": 17
        }
      ]
    },
    {
      "cell_type": "code",
      "source": [
        "myset={1,3,53}\n",
        "print(myset)\n",
        "type(myset)"
      ],
      "metadata": {
        "colab": {
          "base_uri": "https://localhost:8080/"
        },
        "id": "cnvJDsVa44Rs",
        "outputId": "350b573c-a51b-492f-bdcf-f867550190aa"
      },
      "execution_count": 21,
      "outputs": [
        {
          "output_type": "stream",
          "name": "stdout",
          "text": [
            "{1, 3, 53}\n"
          ]
        },
        {
          "output_type": "execute_result",
          "data": {
            "text/plain": [
              "set"
            ]
          },
          "metadata": {},
          "execution_count": 21
        }
      ]
    },
    {
      "cell_type": "code",
      "source": [
        "myset.add(3)"
      ],
      "metadata": {
        "id": "9GxwJDW85W42"
      },
      "execution_count": 29,
      "outputs": []
    },
    {
      "cell_type": "code",
      "source": [
        "myditionary={\"name\":\"tayyab\",\"age\":21}\n",
        "print(myditionary)\n",
        "type(myditionary)"
      ],
      "metadata": {
        "colab": {
          "base_uri": "https://localhost:8080/"
        },
        "id": "Ld-EwD945qTa",
        "outputId": "06677bf4-9765-4445-a5b0-f59cbb3e2fd2"
      },
      "execution_count": 32,
      "outputs": [
        {
          "output_type": "stream",
          "name": "stdout",
          "text": [
            "{'name': 'tayyab', 'age': 21}\n"
          ]
        },
        {
          "output_type": "execute_result",
          "data": {
            "text/plain": [
              "dict"
            ]
          },
          "metadata": {},
          "execution_count": 32
        }
      ]
    },
    {
      "cell_type": "code",
      "source": [],
      "metadata": {
        "id": "KMRlRCms6NkM"
      },
      "execution_count": null,
      "outputs": []
    }
  ]
}