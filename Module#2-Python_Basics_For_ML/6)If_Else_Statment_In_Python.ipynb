{
  "nbformat": 4,
  "nbformat_minor": 0,
  "metadata": {
    "colab": {
      "provenance": []
    },
    "kernelspec": {
      "name": "python3",
      "display_name": "Python 3"
    },
    "language_info": {
      "name": "python"
    }
  },
  "cells": [
    {
      "cell_type": "code",
      "execution_count": 2,
      "metadata": {
        "colab": {
          "base_uri": "https://localhost:8080/"
        },
        "id": "0n_fFRAC-2lw",
        "outputId": "bcc14918-889f-4d72-e04f-62b1b8731c11"
      },
      "outputs": [
        {
          "output_type": "stream",
          "name": "stdout",
          "text": [
            "a is greater then b\n"
          ]
        }
      ],
      "source": [
        "a=6\n",
        "b=5\n",
        "\n",
        "if(a>5):\n",
        "  print(\"a is greater then b\")\n",
        "else:\n",
        "  print(\"a is less then b \")"
      ]
    },
    {
      "cell_type": "code",
      "source": [
        "a=int(input(\"Enter the a value \"))\n",
        "b=int(input(\"Enter the b value \"))\n",
        "\n",
        "if(a>5):\n",
        "  print(\"a is greater then b \")\n",
        "else:\n",
        "  print(\"a is less then b \")"
      ],
      "metadata": {
        "colab": {
          "base_uri": "https://localhost:8080/"
        },
        "id": "nDAuQDUe_k5e",
        "outputId": "ac8c95d6-ae9e-41c0-af80-9f52716834fe"
      },
      "execution_count": 6,
      "outputs": [
        {
          "output_type": "stream",
          "name": "stdout",
          "text": [
            "Enter the a value 3\n",
            "Enter the b value 4\n",
            "a is less then b \n"
          ]
        }
      ]
    },
    {
      "cell_type": "markdown",
      "source": [
        "if elif else statement"
      ],
      "metadata": {
        "id": "EaXDddGtAERw"
      }
    },
    {
      "cell_type": "code",
      "source": [
        "a=14\n",
        "b=20\n",
        "c=30\n",
        "\n",
        "if(b<a>c):\n",
        "  print(\"a is greater\")\n",
        "elif (a<b>c):\n",
        "  print(\"b is greater\")\n",
        "else:\n",
        "  print(\"c is greater\")"
      ],
      "metadata": {
        "colab": {
          "base_uri": "https://localhost:8080/"
        },
        "id": "gE3mBShw_up4",
        "outputId": "fea2b768-95c3-4f3f-bb2a-d79b71c69434"
      },
      "execution_count": 7,
      "outputs": [
        {
          "output_type": "stream",
          "name": "stdout",
          "text": [
            "c is greater\n"
          ]
        }
      ]
    },
    {
      "cell_type": "markdown",
      "source": [
        "nested if else statement"
      ],
      "metadata": {
        "id": "K58dqsmOAmGw"
      }
    },
    {
      "cell_type": "code",
      "source": [
        "if a>b:\n",
        "  if a>c:\n",
        "    print(\"a is greater then all\")\n",
        "  else:\n",
        "    print(\"c is greatet then all\")\n",
        "else:\n",
        "  if b>c:\n",
        "    print(\"b is greater then all\")\n",
        "  else:\n",
        "    print(\"c is greatet then all\")"
      ],
      "metadata": {
        "colab": {
          "base_uri": "https://localhost:8080/"
        },
        "id": "GFXOyujxAbV3",
        "outputId": "38b0a59a-cf35-4ed1-f9c0-5de9f584b869"
      },
      "execution_count": 10,
      "outputs": [
        {
          "output_type": "stream",
          "name": "stdout",
          "text": [
            "c is greatet then all\n"
          ]
        }
      ]
    },
    {
      "cell_type": "code",
      "source": [],
      "metadata": {
        "id": "fXqIwqf6Ay4y"
      },
      "execution_count": null,
      "outputs": []
    }
  ]
}