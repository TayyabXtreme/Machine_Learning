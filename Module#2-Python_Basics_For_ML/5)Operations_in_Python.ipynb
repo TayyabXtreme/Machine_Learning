{
  "nbformat": 4,
  "nbformat_minor": 0,
  "metadata": {
    "colab": {
      "provenance": []
    },
    "kernelspec": {
      "name": "python3",
      "display_name": "Python 3"
    },
    "language_info": {
      "name": "python"
    }
  },
  "cells": [
    {
      "cell_type": "markdown",
      "source": [
        "# Operation In Python\n",
        "\n",
        "\n",
        "1.   Airthmetic Operation\n",
        "2.   Assignment Operation\n",
        "3.   Comparision Operation\n",
        "4.   Logical Operation\n",
        "5.   Identity Operation\n",
        "6.   MemberShip Operation\n",
        "\n"
      ],
      "metadata": {
        "id": "zNMigLKR60yy"
      }
    },
    {
      "cell_type": "markdown",
      "source": [
        "### Arithmetic Operation"
      ],
      "metadata": {
        "id": "rk2esEtw7NDK"
      }
    },
    {
      "cell_type": "code",
      "execution_count": 4,
      "metadata": {
        "colab": {
          "base_uri": "https://localhost:8080/"
        },
        "id": "ZKIfrjrr6rqn",
        "outputId": "d84cb7e0-f314-4dc5-d3bf-457e1e33fcaf"
      },
      "outputs": [
        {
          "output_type": "stream",
          "name": "stdout",
          "text": [
            "addition 30\n",
            "difference 10\n",
            "multiplication 200\n",
            "division 2.0\n",
            "reminder 0\n",
            "exponent 10240000000000\n"
          ]
        }
      ],
      "source": [
        "num1=20\n",
        "num2=10\n",
        "\n",
        "#addition\n",
        "sum=num1+num2\n",
        "print(\"addition\",sum)\n",
        "\n",
        "#subtraction\n",
        "sub=num1-num2\n",
        "print(\"difference\",sub)\n",
        "\n",
        "\n",
        "#multiplication\n",
        "\n",
        "mul=num1*num2\n",
        "print(\"multiplication\",mul)\n",
        "\n",
        "\n",
        "#division\n",
        "\n",
        "div=num1/num2\n",
        "print(\"division\",div)\n",
        "\n",
        "\n",
        "\n",
        "#quotient\n",
        "\n",
        "quo=num1%num2\n",
        "print(\"reminder\",quo)\n",
        "\n",
        "\n",
        "#exponent\n",
        "\n",
        "expo=num1 ** num2\n",
        "print(\"exponent\",expo)"
      ]
    },
    {
      "cell_type": "markdown",
      "source": [
        "### Assignment Operation\n"
      ],
      "metadata": {
        "id": "yTtxtJr38m1m"
      }
    },
    {
      "cell_type": "code",
      "source": [
        "a=5\n",
        "a+=5 # a=a+5\n",
        "print(a)"
      ],
      "metadata": {
        "colab": {
          "base_uri": "https://localhost:8080/"
        },
        "id": "sAo-2Com7doG",
        "outputId": "2217701e-b640-478d-89d1-2a124db09e56"
      },
      "execution_count": 6,
      "outputs": [
        {
          "output_type": "stream",
          "name": "stdout",
          "text": [
            "10\n"
          ]
        }
      ]
    },
    {
      "cell_type": "markdown",
      "source": [
        "Comparision Operations"
      ],
      "metadata": {
        "id": "2JHIKC1188QV"
      }
    },
    {
      "cell_type": "code",
      "source": [
        "b=4\n",
        "d=10\n",
        "print(d==b)\n",
        "print(d<b)\n",
        "print(d<=b)\n",
        "print(d>b)\n",
        "print(d>=b)\n",
        "print(d!=b)"
      ],
      "metadata": {
        "colab": {
          "base_uri": "https://localhost:8080/"
        },
        "id": "R_0nHRQG8vkG",
        "outputId": "6115dd86-4ecf-4f86-cb14-ac19cf5e672d"
      },
      "execution_count": 14,
      "outputs": [
        {
          "output_type": "stream",
          "name": "stdout",
          "text": [
            "False\n",
            "False\n",
            "False\n",
            "True\n",
            "True\n",
            "True\n"
          ]
        }
      ]
    },
    {
      "cell_type": "markdown",
      "source": [
        "## Logical Operations\n",
        "\n",
        "1. AND\n",
        "2. OR\n",
        "4. NOT"
      ],
      "metadata": {
        "id": "NX-3deCd9aF4"
      }
    },
    {
      "cell_type": "code",
      "source": [
        "a=10\n",
        "\n",
        "print(a>20 and  a>6)\n",
        "print(a>20 or  a>6)\n",
        "print(not(a>20 and  a>6))"
      ],
      "metadata": {
        "colab": {
          "base_uri": "https://localhost:8080/"
        },
        "id": "yCu94nCU9Jp7",
        "outputId": "843fc4fe-114d-43a2-c95c-95ab16a8743f"
      },
      "execution_count": 16,
      "outputs": [
        {
          "output_type": "stream",
          "name": "stdout",
          "text": [
            "False\n",
            "True\n",
            "True\n"
          ]
        }
      ]
    },
    {
      "cell_type": "markdown",
      "source": [
        "## Identity Operation\n",
        " is / isnot"
      ],
      "metadata": {
        "id": "s_gDgFx898T_"
      }
    },
    {
      "cell_type": "code",
      "source": [
        "x=y=5\n",
        "print(x is not y)"
      ],
      "metadata": {
        "colab": {
          "base_uri": "https://localhost:8080/"
        },
        "id": "5rh3tDow-Cvs",
        "outputId": "2124c4a6-c835-485a-d771-abd597a9652d"
      },
      "execution_count": 18,
      "outputs": [
        {
          "output_type": "stream",
          "name": "stdout",
          "text": [
            "False\n"
          ]
        }
      ]
    },
    {
      "cell_type": "markdown",
      "source": [
        "## MemberShip Operations\n",
        "\n",
        "in /\n",
        "not in"
      ],
      "metadata": {
        "id": "OD5poVG1-MW-"
      }
    },
    {
      "cell_type": "code",
      "source": [
        "a=4\n",
        "b=7\n",
        "c=[2,4,6,8]\n",
        "print(a in c)\n",
        "print(b in c)\n"
      ],
      "metadata": {
        "colab": {
          "base_uri": "https://localhost:8080/"
        },
        "id": "XJMfRR8O9tdt",
        "outputId": "4c497b78-b4cd-40f9-b4e7-9f4488b23117"
      },
      "execution_count": 21,
      "outputs": [
        {
          "output_type": "stream",
          "name": "stdout",
          "text": [
            "True\n",
            "False\n"
          ]
        }
      ]
    },
    {
      "cell_type": "code",
      "source": [],
      "metadata": {
        "id": "vHWukb5i-cw8"
      },
      "execution_count": null,
      "outputs": []
    }
  ]
}