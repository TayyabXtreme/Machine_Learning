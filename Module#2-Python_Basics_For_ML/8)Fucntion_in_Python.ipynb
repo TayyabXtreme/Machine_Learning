{
  "nbformat": 4,
  "nbformat_minor": 0,
  "metadata": {
    "colab": {
      "provenance": []
    },
    "kernelspec": {
      "name": "python3",
      "display_name": "Python 3"
    },
    "language_info": {
      "name": "python"
    }
  },
  "cells": [
    {
      "cell_type": "markdown",
      "source": [
        "## Function\n",
        "   fucntion is a block of code that can be reused"
      ],
      "metadata": {
        "id": "VKR9n6_lEJ7O"
      }
    },
    {
      "cell_type": "code",
      "execution_count": 3,
      "metadata": {
        "colab": {
          "base_uri": "https://localhost:8080/"
        },
        "id": "rPU5R6waEE7V",
        "outputId": "fb7797a8-2419-4b53-e96f-e66eb869678b"
      },
      "outputs": [
        {
          "output_type": "stream",
          "name": "stdout",
          "text": [
            "120\n"
          ]
        }
      ],
      "source": [
        "# Factorial of number\n",
        "def facto(n):\n",
        "    for i in range(1,n):\n",
        "        n=n*i\n",
        "    return n\n",
        "print(facto(5))\n"
      ]
    },
    {
      "cell_type": "code",
      "source": [
        "## Types of fucniton\n",
        "# 1.Predefiend\n",
        "# 2.Userdefiend\n",
        "\n"
      ],
      "metadata": {
        "id": "cqPdXNz5EeHL"
      },
      "execution_count": 2,
      "outputs": []
    },
    {
      "cell_type": "code",
      "source": [],
      "metadata": {
        "id": "Iw_dDtb3Eoq7"
      },
      "execution_count": null,
      "outputs": []
    }
  ]
}