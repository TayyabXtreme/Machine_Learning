{
  "nbformat": 4,
  "nbformat_minor": 0,
  "metadata": {
    "colab": {
      "provenance": [],
      "authorship_tag": "ABX9TyMj+FxAZREJE0Sz3aBsez0e",
      "include_colab_link": true
    },
    "kernelspec": {
      "name": "python3",
      "display_name": "Python 3"
    },
    "language_info": {
      "name": "python"
    }
  },
  "cells": [
    {
      "cell_type": "markdown",
      "metadata": {
        "id": "view-in-github",
        "colab_type": "text"
      },
      "source": [
        "<a href=\"https://colab.research.google.com/github/TayyabXtreme/Machine_Learning/blob/main/Module%232-Python_Basics_For_ML/Python_Basic.ipynb\" target=\"_parent\"><img src=\"https://colab.research.google.com/assets/colab-badge.svg\" alt=\"Open In Colab\"/></a>"
      ]
    },
    {
      "cell_type": "markdown",
      "source": [
        "# **Programming Language used for MachineLearning **\n",
        "\n",
        "1.   Python\n",
        "2.   R\n"
      ],
      "metadata": {
        "id": "sFgZYh_78R4Z"
      }
    },
    {
      "cell_type": "markdown",
      "source": [
        "#Print Function"
      ],
      "metadata": {
        "id": "CMH8hfxW83Ir"
      }
    },
    {
      "cell_type": "code",
      "execution_count": 1,
      "metadata": {
        "colab": {
          "base_uri": "https://localhost:8080/"
        },
        "id": "I8Zs4GR78K17",
        "outputId": "0b3d8905-11b6-4abb-aaa5-9d46b32d7c15"
      },
      "outputs": [
        {
          "output_type": "stream",
          "name": "stdout",
          "text": [
            "Machine Learning\n"
          ]
        }
      ],
      "source": [
        "print(\"Machine Learning\")"
      ]
    },
    {
      "cell_type": "code",
      "source": [
        "print(\"Machine Learning\"+\"and Projects\")"
      ],
      "metadata": {
        "colab": {
          "base_uri": "https://localhost:8080/"
        },
        "id": "AqxH7AEk88Io",
        "outputId": "f4716bf0-02fe-4c7a-9d69-4fbe70449cda"
      },
      "execution_count": 3,
      "outputs": [
        {
          "output_type": "stream",
          "name": "stdout",
          "text": [
            "Machine Learningand Projects\n"
          ]
        }
      ]
    },
    {
      "cell_type": "code",
      "source": [
        "print(8)"
      ],
      "metadata": {
        "colab": {
          "base_uri": "https://localhost:8080/"
        },
        "id": "P9d1yPHv8_v8",
        "outputId": "9e3dec26-b0cb-4b40-b1a7-f954b4ecf846"
      },
      "execution_count": 4,
      "outputs": [
        {
          "output_type": "stream",
          "name": "stdout",
          "text": [
            "8\n"
          ]
        }
      ]
    },
    {
      "cell_type": "code",
      "source": [
        "print(4+4)"
      ],
      "metadata": {
        "colab": {
          "base_uri": "https://localhost:8080/"
        },
        "id": "2_BEjRc09F42",
        "outputId": "07b1e7be-e945-494a-ed55-eca618dc1def"
      },
      "execution_count": 7,
      "outputs": [
        {
          "output_type": "stream",
          "name": "stdout",
          "text": [
            "8\n"
          ]
        }
      ]
    },
    {
      "cell_type": "code",
      "source": [],
      "metadata": {
        "id": "pSK8RyCy9HX6"
      },
      "execution_count": 8,
      "outputs": []
    },
    {
      "cell_type": "code",
      "source": [],
      "metadata": {
        "id": "-KD-q32e9PRB"
      },
      "execution_count": null,
      "outputs": []
    },
    {
      "cell_type": "markdown",
      "source": [
        "#Basic Data Types"
      ],
      "metadata": {
        "id": "6mne2v1fEJUH"
      }
    },
    {
      "cell_type": "markdown",
      "source": [
        "1. Int\n",
        "2. Float\n",
        "3. string"
      ],
      "metadata": {
        "id": "oqWLedfZEPlA"
      }
    },
    {
      "cell_type": "code",
      "source": [
        "type(4)"
      ],
      "metadata": {
        "colab": {
          "base_uri": "https://localhost:8080/"
        },
        "id": "MqcK491FENOf",
        "outputId": "43f68f06-6110-4863-b353-9e20172447f3"
      },
      "execution_count": 9,
      "outputs": [
        {
          "output_type": "execute_result",
          "data": {
            "text/plain": [
              "int"
            ]
          },
          "metadata": {},
          "execution_count": 9
        }
      ]
    },
    {
      "cell_type": "code",
      "source": [
        "type('a')"
      ],
      "metadata": {
        "colab": {
          "base_uri": "https://localhost:8080/"
        },
        "id": "jMXO3Y2IElGG",
        "outputId": "6671fb3e-9d56-46bf-d44f-981e2c6a65ea"
      },
      "execution_count": 10,
      "outputs": [
        {
          "output_type": "execute_result",
          "data": {
            "text/plain": [
              "str"
            ]
          },
          "metadata": {},
          "execution_count": 10
        }
      ]
    },
    {
      "cell_type": "code",
      "source": [],
      "metadata": {
        "id": "7FgfZ2F2Em9t"
      },
      "execution_count": null,
      "outputs": []
    },
    {
      "cell_type": "markdown",
      "source": [
        "##Constant vs Variable"
      ],
      "metadata": {
        "id": "D-ivlUcGE_3h"
      }
    },
    {
      "cell_type": "code",
      "source": [
        "super_hero=\"iron man\""
      ],
      "metadata": {
        "id": "zOkPj_LXFFRK"
      },
      "execution_count": 11,
      "outputs": []
    },
    {
      "cell_type": "code",
      "source": [
        "print(super_hero)"
      ],
      "metadata": {
        "colab": {
          "base_uri": "https://localhost:8080/"
        },
        "id": "GH9NbaVrFJqu",
        "outputId": "611a6d40-453b-45d1-fe04-d1bdbe801f7b"
      },
      "execution_count": 12,
      "outputs": [
        {
          "output_type": "stream",
          "name": "stdout",
          "text": [
            "iron man\n"
          ]
        }
      ]
    },
    {
      "cell_type": "code",
      "source": [
        "super_hero=\"captian america\""
      ],
      "metadata": {
        "id": "jf-Kf0MjFLh8"
      },
      "execution_count": 13,
      "outputs": []
    },
    {
      "cell_type": "code",
      "source": [
        "print(super_hero)"
      ],
      "metadata": {
        "colab": {
          "base_uri": "https://localhost:8080/"
        },
        "id": "kmYUbfnCFl4P",
        "outputId": "cfd149c6-717e-440f-ad89-80464920263f"
      },
      "execution_count": 14,
      "outputs": [
        {
          "output_type": "stream",
          "name": "stdout",
          "text": [
            "captian america\n"
          ]
        }
      ]
    },
    {
      "cell_type": "code",
      "source": [
        "hero1,hero2,hero3=\"Hulk\",\"Thor\",\"Batman\""
      ],
      "metadata": {
        "id": "-rvKY6IyFnWW"
      },
      "execution_count": 15,
      "outputs": []
    },
    {
      "cell_type": "code",
      "source": [
        "print(hero1)"
      ],
      "metadata": {
        "colab": {
          "base_uri": "https://localhost:8080/"
        },
        "id": "2_82fGjnFveZ",
        "outputId": "d233186c-6f84-4f85-f627-8a9a664d6ac0"
      },
      "execution_count": 16,
      "outputs": [
        {
          "output_type": "stream",
          "name": "stdout",
          "text": [
            "Hulk\n"
          ]
        }
      ]
    },
    {
      "cell_type": "code",
      "source": [
        "print(hero2)"
      ],
      "metadata": {
        "colab": {
          "base_uri": "https://localhost:8080/"
        },
        "id": "VHMV5DAPFxRF",
        "outputId": "878fc72d-0bce-4515-f3e6-43d4c29a803f"
      },
      "execution_count": 17,
      "outputs": [
        {
          "output_type": "stream",
          "name": "stdout",
          "text": [
            "Thor\n"
          ]
        }
      ]
    },
    {
      "cell_type": "code",
      "source": [
        "print(hero3)"
      ],
      "metadata": {
        "colab": {
          "base_uri": "https://localhost:8080/"
        },
        "id": "4nsvvd2hFzEg",
        "outputId": "1e7c1b21-ea0a-4a04-c85e-f41fdf349091"
      },
      "execution_count": 18,
      "outputs": [
        {
          "output_type": "stream",
          "name": "stdout",
          "text": [
            "Batman\n"
          ]
        }
      ]
    },
    {
      "cell_type": "code",
      "source": [
        "x=y=z=4"
      ],
      "metadata": {
        "id": "dwCcI2urFz6c"
      },
      "execution_count": 19,
      "outputs": []
    },
    {
      "cell_type": "code",
      "source": [
        "print(z)"
      ],
      "metadata": {
        "colab": {
          "base_uri": "https://localhost:8080/"
        },
        "id": "JOiWUZ8BGE45",
        "outputId": "ec84c86e-9669-4412-ed53-8ca5b1601b59"
      },
      "execution_count": 20,
      "outputs": [
        {
          "output_type": "stream",
          "name": "stdout",
          "text": [
            "4\n"
          ]
        }
      ]
    },
    {
      "cell_type": "code",
      "source": [
        "print(x)"
      ],
      "metadata": {
        "colab": {
          "base_uri": "https://localhost:8080/"
        },
        "id": "oI83DVSSGHD7",
        "outputId": "b694c55a-2b3f-4e07-d6ff-1ad8cdafcdc2"
      },
      "execution_count": 21,
      "outputs": [
        {
          "output_type": "stream",
          "name": "stdout",
          "text": [
            "4\n"
          ]
        }
      ]
    },
    {
      "cell_type": "code",
      "source": [
        "print(y)"
      ],
      "metadata": {
        "colab": {
          "base_uri": "https://localhost:8080/"
        },
        "id": "5woA4WIsGH8o",
        "outputId": "5d72ab33-cd4f-420c-b0c2-5d49317bae3e"
      },
      "execution_count": 22,
      "outputs": [
        {
          "output_type": "stream",
          "name": "stdout",
          "text": [
            "4\n"
          ]
        }
      ]
    },
    {
      "cell_type": "markdown",
      "source": [
        "# Input Function"
      ],
      "metadata": {
        "id": "4lrVTPKlGRG-"
      }
    },
    {
      "cell_type": "code",
      "source": [
        "number_1=input(\"Enter the First Number\")\n",
        "number_2=input(\"Enter the Second Number\")"
      ],
      "metadata": {
        "colab": {
          "base_uri": "https://localhost:8080/"
        },
        "id": "G8bEdlqeGJDE",
        "outputId": "c6f048f8-94fa-4702-9187-c3d24c8e0416"
      },
      "execution_count": 24,
      "outputs": [
        {
          "name": "stdout",
          "output_type": "stream",
          "text": [
            "Enter the First Number2\n",
            "Enter the Second Number44\n"
          ]
        }
      ]
    },
    {
      "cell_type": "code",
      "source": [
        "sum=number_1+number_2\n",
        "print(sum)"
      ],
      "metadata": {
        "colab": {
          "base_uri": "https://localhost:8080/"
        },
        "id": "XvM_FEXCGbWP",
        "outputId": "14e9b908-3f44-4c22-8a1a-179d02cc16e3"
      },
      "execution_count": 28,
      "outputs": [
        {
          "output_type": "stream",
          "name": "stdout",
          "text": [
            "9\n"
          ]
        }
      ]
    },
    {
      "cell_type": "code",
      "source": [
        "number_1=int(input(\"Enter the First Number\"))\n",
        "number_2=int(input(\"Enter the Second Number\"))"
      ],
      "metadata": {
        "colab": {
          "base_uri": "https://localhost:8080/"
        },
        "id": "kraSCPpdGtTA",
        "outputId": "21034b39-8669-4a77-fa52-b6cb5a0c7956"
      },
      "execution_count": 27,
      "outputs": [
        {
          "name": "stdout",
          "output_type": "stream",
          "text": [
            "Enter the First Number4\n",
            "Enter the Second Number5\n"
          ]
        }
      ]
    },
    {
      "cell_type": "code",
      "source": [],
      "metadata": {
        "id": "oQEqaPaGG-yo"
      },
      "execution_count": null,
      "outputs": []
    }
  ]
}