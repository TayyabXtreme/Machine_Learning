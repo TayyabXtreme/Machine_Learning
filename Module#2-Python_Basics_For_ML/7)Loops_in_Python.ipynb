{
  "nbformat": 4,
  "nbformat_minor": 0,
  "metadata": {
    "colab": {
      "provenance": []
    },
    "kernelspec": {
      "name": "python3",
      "display_name": "Python 3"
    },
    "language_info": {
      "name": "python"
    }
  },
  "cells": [
    {
      "cell_type": "code",
      "execution_count": 1,
      "metadata": {
        "colab": {
          "base_uri": "https://localhost:8080/"
        },
        "id": "RXc0rMzhBcF-",
        "outputId": "e67520c8-0d97-4c87-a48a-43d356ffdefc"
      },
      "outputs": [
        {
          "name": "stdout",
          "output_type": "stream",
          "text": [
            "Enter the price of Laptop : 5434\n",
            "Enter the price of Laptop : 3435\n",
            "Enter the price of Laptop : 345\n",
            "Enter the price of Laptop : 34534\n",
            "Enter the price of Laptop : 43435\n"
          ]
        }
      ],
      "source": [
        "laptop1=int(input(\"Enter the price of Laptop : \"))\n",
        "laptop2=int(input(\"Enter the price of Laptop : \"))\n",
        "laptop3=int(input(\"Enter the price of Laptop : \"))\n",
        "laptop4=int(input(\"Enter the price of Laptop : \"))\n",
        "laptop5=int(input(\"Enter the price of Laptop : \"))"
      ]
    },
    {
      "cell_type": "code",
      "source": [
        "for _ in range(5):\n",
        "  laptop=int(input(\"Enter the price of Laptop : \"))"
      ],
      "metadata": {
        "colab": {
          "base_uri": "https://localhost:8080/"
        },
        "id": "ZayfV42AC-JS",
        "outputId": "4797106f-22a2-4540-9204-626384f8c950"
      },
      "execution_count": 3,
      "outputs": [
        {
          "name": "stdout",
          "output_type": "stream",
          "text": [
            "Enter the price of Laptop : 2324\n",
            "Enter the price of Laptop : 43453\n",
            "Enter the price of Laptop : 3535\n",
            "Enter the price of Laptop : 3435\n",
            "Enter the price of Laptop : 3443\n"
          ]
        }
      ]
    },
    {
      "cell_type": "code",
      "source": [
        "numbers=[1,54,65,234]\n",
        "for num in numbers:\n",
        "  print(num)"
      ],
      "metadata": {
        "colab": {
          "base_uri": "https://localhost:8080/"
        },
        "id": "SPwceJbYDHIx",
        "outputId": "d500369e-4d4d-4555-d45a-8520352a8439"
      },
      "execution_count": 4,
      "outputs": [
        {
          "output_type": "stream",
          "name": "stdout",
          "text": [
            "1\n",
            "54\n",
            "65\n",
            "234\n"
          ]
        }
      ]
    },
    {
      "cell_type": "code",
      "source": [
        "i=0\n",
        "while i<10:\n",
        "  print(i)\n",
        "  i=int(input(\"enter the value of i\"))"
      ],
      "metadata": {
        "colab": {
          "base_uri": "https://localhost:8080/"
        },
        "id": "yk1JU2uiDceJ",
        "outputId": "245b6fca-e745-4636-9c2d-e948d3a9ef37"
      },
      "execution_count": 6,
      "outputs": [
        {
          "name": "stdout",
          "output_type": "stream",
          "text": [
            "0\n",
            "enter the value of i2\n",
            "2\n",
            "enter the value of i3\n",
            "3\n",
            "enter the value of i22\n"
          ]
        }
      ]
    },
    {
      "cell_type": "code",
      "source": [],
      "metadata": {
        "id": "hCtyzvPODzgb"
      },
      "execution_count": null,
      "outputs": []
    }
  ]
}