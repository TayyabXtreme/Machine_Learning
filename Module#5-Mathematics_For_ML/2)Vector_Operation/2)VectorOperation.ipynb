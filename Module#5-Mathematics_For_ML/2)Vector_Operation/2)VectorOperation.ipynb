{
  "nbformat": 4,
  "nbformat_minor": 0,
  "metadata": {
    "colab": {
      "provenance": []
    },
    "kernelspec": {
      "name": "python3",
      "display_name": "Python 3"
    },
    "language_info": {
      "name": "python"
    }
  },
  "cells": [
    {
      "cell_type": "code",
      "execution_count": 1,
      "metadata": {
        "id": "nzOwWu_kB2MU"
      },
      "outputs": [],
      "source": [
        "import numpy as np\n"
      ]
    },
    {
      "cell_type": "markdown",
      "source": [
        "Dot Prodcut of Two Vector\n"
      ],
      "metadata": {
        "id": "_pmNzhiyCClp"
      }
    },
    {
      "cell_type": "code",
      "source": [
        "a=np.asarray([2,3])\n",
        "b=np.asarray([4,4])"
      ],
      "metadata": {
        "id": "369bpheRB8lA"
      },
      "execution_count": 2,
      "outputs": []
    },
    {
      "cell_type": "code",
      "source": [
        "adotb=np.dot(a,b)"
      ],
      "metadata": {
        "id": "vD0f0PHQCL6s"
      },
      "execution_count": 3,
      "outputs": []
    },
    {
      "cell_type": "code",
      "source": [
        "print(adotb)"
      ],
      "metadata": {
        "colab": {
          "base_uri": "https://localhost:8080/"
        },
        "id": "_2M4sO8BCPls",
        "outputId": "c7f9d72f-0544-4cd0-9ba7-857c7e4bb91d"
      },
      "execution_count": 4,
      "outputs": [
        {
          "output_type": "stream",
          "name": "stdout",
          "text": [
            "20\n"
          ]
        }
      ]
    },
    {
      "cell_type": "code",
      "source": [
        "c=np.asarray([1,2,3])\n",
        "d=np.asarray([4,5,6])"
      ],
      "metadata": {
        "id": "ATGrtRLdCRaZ"
      },
      "execution_count": 5,
      "outputs": []
    },
    {
      "cell_type": "code",
      "source": [
        "print(np.dot(c,d))"
      ],
      "metadata": {
        "colab": {
          "base_uri": "https://localhost:8080/"
        },
        "id": "9Qhm0O71CZu8",
        "outputId": "deaa6cc1-d96c-4507-b47a-83fa60405e90"
      },
      "execution_count": 6,
      "outputs": [
        {
          "output_type": "stream",
          "name": "stdout",
          "text": [
            "32\n"
          ]
        }
      ]
    },
    {
      "cell_type": "markdown",
      "source": [
        "Cross Project of Two Vector"
      ],
      "metadata": {
        "id": "8TrWwCshCjdR"
      }
    },
    {
      "cell_type": "code",
      "source": [
        "a=np.asarray([2,3])\n",
        "b=np.asarray([4,4])\n",
        "\n",
        "a_cros_b=np.cross(a,b)"
      ],
      "metadata": {
        "id": "lLzM8bGgCbzm"
      },
      "execution_count": 7,
      "outputs": []
    },
    {
      "cell_type": "code",
      "source": [
        "print(a_cros_b)"
      ],
      "metadata": {
        "colab": {
          "base_uri": "https://localhost:8080/"
        },
        "id": "6d_jsPkZCs0u",
        "outputId": "a6e8d58f-e101-4791-8806-163ac8657bff"
      },
      "execution_count": 8,
      "outputs": [
        {
          "output_type": "stream",
          "name": "stdout",
          "text": [
            "-4\n"
          ]
        }
      ]
    },
    {
      "cell_type": "markdown",
      "source": [
        "Projection of a vector on v vector![formula.jpg](data:image/jpeg;base64,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)"
      ],
      "metadata": {
        "id": "Oj4fhlQCDBm-"
      }
    },
    {
      "cell_type": "code",
      "source": [
        "a=np.asarray([2,5])\n",
        "v=np.array([8,-6])"
      ],
      "metadata": {
        "id": "3cgegq7HCuov"
      },
      "execution_count": 9,
      "outputs": []
    },
    {
      "cell_type": "code",
      "source": [
        "#magnitude of v vector\n",
        "magnitude_of_v=np.sqrt(np.sum(v**2))\n",
        "print(magnitude_of_v)"
      ],
      "metadata": {
        "colab": {
          "base_uri": "https://localhost:8080/"
        },
        "id": "_abP5L0gDfzm",
        "outputId": "e35ba9b1-8a54-40cb-8c0f-3c72336ec64c"
      },
      "execution_count": 10,
      "outputs": [
        {
          "output_type": "stream",
          "name": "stdout",
          "text": [
            "10.0\n"
          ]
        }
      ]
    },
    {
      "cell_type": "code",
      "source": [
        "projection_of_a_on_v=(np.dot(a,v)/magnitude_of_v**2)*v\n",
        "print(projection_of_a_on_v)"
      ],
      "metadata": {
        "colab": {
          "base_uri": "https://localhost:8080/"
        },
        "id": "ckwgTiQWD2QS",
        "outputId": "a2aa0300-9424-41e9-9484-7dc8a1c26308"
      },
      "execution_count": 11,
      "outputs": [
        {
          "output_type": "stream",
          "name": "stdout",
          "text": [
            "[-1.12  0.84]\n"
          ]
        }
      ]
    },
    {
      "cell_type": "code",
      "source": [],
      "metadata": {
        "id": "Cm_yPKjdECV8"
      },
      "execution_count": null,
      "outputs": []
    }
  ]
}