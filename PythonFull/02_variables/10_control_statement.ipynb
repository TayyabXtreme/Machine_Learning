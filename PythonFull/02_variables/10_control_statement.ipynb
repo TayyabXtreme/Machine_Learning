{
 "cells": [
  {
   "cell_type": "code",
   "execution_count": null,
   "metadata": {},
   "outputs": [
    {
     "name": "stdout",
     "output_type": "stream",
     "text": [
      "your age is 17\n",
      "teenager\n"
     ]
    }
   ],
   "source": [
    "age=17\n",
    "if age>=18:\n",
    "    print('your age is',age)\n",
    "    print('adult')\n",
    "elif age>=6:\n",
    "    print('your age is',age)\n",
    "    print('teenager')\n",
    "else:\n",
    "    print('your age is',age)\n",
    "    print('kid')\n"
   ]
  },
  {
   "cell_type": "code",
   "execution_count": 6,
   "metadata": {},
   "outputs": [
    {
     "name": "stdout",
     "output_type": "stream",
     "text": [
      "your age is 25\n",
      "adult\n"
     ]
    }
   ],
   "source": [
    "age=25\n",
    "citizen=True\n",
    "if age>=18 and citizen:\n",
    "    print('your age is',age)\n",
    "    print('adult')"
   ]
  },
  {
   "cell_type": "code",
   "execution_count": 7,
   "metadata": {},
   "outputs": [
    {
     "name": "stdout",
     "output_type": "stream",
     "text": [
      "today is sunday\n",
      "weekend\n"
     ]
    }
   ],
   "source": [
    "day=\"sunday\"\n",
    "if day==\"sunday\" or day==\"saturday\":\n",
    "    print('today is',day)\n",
    "    print('weekend')"
   ]
  },
  {
   "cell_type": "code",
   "execution_count": 9,
   "metadata": {},
   "outputs": [],
   "source": [
    "raining=True\n",
    "\n",
    "if not raining:\n",
    "    print('you can go out')"
   ]
  },
  {
   "cell_type": "code",
   "execution_count": 10,
   "metadata": {},
   "outputs": [
    {
     "name": "stdout",
     "output_type": "stream",
     "text": [
      "you can drive\n"
     ]
    }
   ],
   "source": [
    "age=20\n",
    "license=True\n",
    "if age>=18:\n",
    "    if license:\n",
    "        print('you can drive')\n",
    "    else:\n",
    "        print('you cannot drive')\n",
    "else:\n",
    "    print('you cannot drive')"
   ]
  },
  {
   "cell_type": "code",
   "execution_count": null,
   "metadata": {},
   "outputs": [
    {
     "name": "stdout",
     "output_type": "stream",
     "text": [
      "Biryani is available at the dhaba\n",
      "Pulao is available at the dhaba\n",
      "Karahi is available at the dhaba\n",
      "Kabab is available at the dhaba\n",
      "Nihari is available at the dhaba\n"
     ]
    }
   ],
   "source": [
    "dishes=[\"Biryani\",\"Pulao\",\"Karahi\",\"Kabab\",\"Nihari\"]\n",
    "\n",
    "\n",
    "for dish in dishes:\n",
    "    print(f\"{dish} is available at the dhaba\")"
   ]
  },
  {
   "cell_type": "code",
   "execution_count": null,
   "metadata": {},
   "outputs": [],
   "source": []
  }
 ],
 "metadata": {
  "kernelspec": {
   "display_name": "Python 3",
   "language": "python",
   "name": "python3"
  },
  "language_info": {
   "codemirror_mode": {
    "name": "ipython",
    "version": 3
   },
   "file_extension": ".py",
   "mimetype": "text/x-python",
   "name": "python",
   "nbconvert_exporter": "python",
   "pygments_lexer": "ipython3",
   "version": "3.9.21"
  }
 },
 "nbformat": 4,
 "nbformat_minor": 2
}
